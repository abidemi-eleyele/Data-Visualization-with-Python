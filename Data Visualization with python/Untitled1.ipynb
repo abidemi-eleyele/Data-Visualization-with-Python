{
 "cells": [
  {
   "cell_type": "code",
   "execution_count": 1,
   "metadata": {},
   "outputs": [],
   "source": [
    "import folium\n",
    "from folium import plugins\n",
    "from folium.plugins import Search\n",
    "\n",
    "points = {\n",
    "\"type\": \"FeatureCollection\",\n",
    "\"features\": [\n",
    "{\n",
    "\"type\": \"Feature\",\n",
    "\"properties\": {\n",
    "\"name\": \"one\"\n",
    "},\n",
    "\"geometry\": {\n",
    "\"type\": \"Point\",\n",
    "\"coordinates\": [-71.0636, 42.3581]\n",
    "}\n",
    "},\n",
    "{\n",
    "\"type\": \"Feature\",\n",
    "\"properties\": {\n",
    "\"name\": \"two\"\n",
    "},\n",
    "\"geometry\": {\n",
    "\"type\": \"Point\",\n",
    "\"coordinates\": [-74.78991444, 42.82995815]\n",
    "}\n",
    "},\n",
    "{\n",
    "\"type\": \"Feature\",\n",
    "\"properties\": {\n",
    "\"name\": \"three\"\n",
    "},\n",
    "\"geometry\": {\n",
    "\"type\": \"Point\",\n",
    "\"coordinates\": [-78.56603306, 39.17929819]\n",
    "}\n",
    "}\n",
    "]\n",
    "}\n",
    "\n",
    "m = folium.Map(\n",
    "location=[42.82995815, -74.78991444],\n",
    "tiles = 'cartodbpositron',\n",
    "zoom_start=4\n",
    ")\n",
    "\n",
    "style_one = lambda x: {'fillColor': '#ffdc30'}\n",
    "geojson_obj = folium.GeoJson(points, style_function=style_one).add_to(m)\n",
    "\n",
    "statesearch = Search(layer=geojson_obj,\n",
    "                     geom_type='Point',\n",
    "                     placeholder=\"Search\",\n",
    "                     collapsed=True,\n",
    "                     search_label='name',\n",
    "                     search_zoom=14,\n",
    "                     position='topright'\n",
    "                    ).add_to(m)\n",
    "\n",
    "m.save('example.html')"
   ]
  },
  {
   "cell_type": "code",
   "execution_count": null,
   "metadata": {},
   "outputs": [],
   "source": []
  }
 ],
 "metadata": {
  "kernelspec": {
   "display_name": "Python",
   "language": "python",
   "name": "conda-env-python-py"
  },
  "language_info": {
   "codemirror_mode": {
    "name": "ipython",
    "version": 3
   },
   "file_extension": ".py",
   "mimetype": "text/x-python",
   "name": "python",
   "nbconvert_exporter": "python",
   "pygments_lexer": "ipython3",
   "version": "3.6.7"
  }
 },
 "nbformat": 4,
 "nbformat_minor": 4
}
